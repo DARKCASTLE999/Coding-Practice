{
 "cells": [
  {
   "cell_type": "code",
   "execution_count": null,
   "id": "2a9faa08-aaa1-4835-846a-7671b670a45c",
   "metadata": {},
   "outputs": [],
   "source": [
    "print(\"\\\\    /\\\\\")\n",
    "print(\" )  ( ')\")\n",
    "print(\"(  /  )\")\n",
    "print(\" \\\\(__)|\")"
   ]
  },
  {
   "cell_type": "code",
   "execution_count": null,
   "id": "dfb6bbea-f672-4e7d-8018-7003a2587c70",
   "metadata": {},
   "outputs": [],
   "source": [
    "print(\"|\\_/|\")\n",
    "print(\"|q p|   /}\")\n",
    "print('''( 0 )\"\"\"\\\\''')\n",
    "print(\"\"\"|\"^\"`    |\"\"\")\n",
    "print(\"||_/=\\\\\\\\__|\")"
   ]
  },
  {
   "cell_type": "code",
   "execution_count": null,
   "id": "02d3cfe8-8e47-48b6-ab52-09cac6b7e22f",
   "metadata": {},
   "outputs": [],
   "source": [
    "# A+B, A-B, A*B, A/B(몫), A%B(나머지)\n",
    "A,B=map(int,input().split())\n",
    "print(A+B)\n",
    "print(A-B)\n",
    "print(A*B)\n",
    "print(A//B)\n",
    "print(A%B)"
   ]
  },
  {
   "cell_type": "code",
   "execution_count": null,
   "id": "68beae57-3e38-4020-86a4-007f525fd3f5",
   "metadata": {},
   "outputs": [],
   "source": [
    "#??!\n",
    "print(input() + \"??!\")"
   ]
  },
  {
   "cell_type": "code",
   "execution_count": null,
   "id": "a8fe3d09-28be-490a-9241-702e4757f351",
   "metadata": {},
   "outputs": [],
   "source": [
    "# 태국의 불멸기원과 한국의 서기 연도\n",
    "A = int(input())\n",
    "print(A-543)"
   ]
  },
  {
   "cell_type": "code",
   "execution_count": null,
   "id": "828241cc-1436-4a4d-ba6a-4df2db93e4f7",
   "metadata": {},
   "outputs": [],
   "source": [
    "#나머지\n",
    "a, b, c = map(int, input().split())\n",
    "\n",
    "print((a+b)%c)\n",
    "print(((a%c)+(b%c))%c)\n",
    "print((a*b)%c)\n",
    "print(((a%c)*(b%c))%c)"
   ]
  },
  {
   "cell_type": "code",
   "execution_count": null,
   "id": "c5b0c75f-db33-496b-abb2-df291187aa63",
   "metadata": {},
   "outputs": [],
   "source": [
    "#곱셈\n",
    "a = int(input())\n",
    "b = input()\n",
    "\n",
    "q = a*int(b[2])\n",
    "w = a*int(b[1])\n",
    "e = a*int(b[0])\n",
    "r = a*int(b)\n",
    "print(q, w, e, r, sep='\\n')"
   ]
  }
 ],
 "metadata": {
  "kernelspec": {
   "display_name": "Python 3",
   "language": "python",
   "name": "python3"
  },
  "language_info": {
   "codemirror_mode": {
    "name": "ipython",
    "version": 3
   },
   "file_extension": ".py",
   "mimetype": "text/x-python",
   "name": "python",
   "nbconvert_exporter": "python",
   "pygments_lexer": "ipython3",
   "version": "3.8.8"
  }
 },
 "nbformat": 4,
 "nbformat_minor": 5
}
